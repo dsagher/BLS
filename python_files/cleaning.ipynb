{
 "cells": [
  {
   "cell_type": "code",
   "execution_count": 286,
   "metadata": {},
   "outputs": [],
   "source": [
    "import pandas as pd\n",
    "import numpy as np\n",
    "import re\n",
    "import datetime as dt\n",
    "\n",
    "PATH = '/Users/danielsagher/Dropbox/Documents/projects/bls_api_project/'\n",
    "NOW = dt.datetime.now().strftime('%d-%b-%Y_%H:%M:%S')\n",
    "\n",
    "nr = pd.read_csv(f'{PATH}outputs/main_op/national_results.csv')\n",
    "sr = pd.read_csv(f'{PATH}outputs/main_op/state_results.csv')\n",
    "ssd = pd.read_csv(f'{PATH}outputs/state_scrape_op/state_series_dimension.csv')\n",
    "st = pd.read_csv(f'{PATH}outputs/excel_op/survey_table.csv')\n",
    "nsd= pd.read_csv(f'{PATH}outputs/excel_op/national_series_dimension_og.csv')\n",
    "\n"
   ]
  },
  {
   "cell_type": "code",
   "execution_count": 287,
   "metadata": {},
   "outputs": [
    {
     "data": {
      "text/plain": [
       "6"
      ]
     },
     "execution_count": 287,
     "metadata": {},
     "output_type": "execute_result"
    }
   ],
   "source": [
    "# Checking for national_series_dimension duplicates\n",
    "\n",
    "nsd['seriesID'].duplicated().sum()"
   ]
  },
  {
   "cell_type": "code",
   "execution_count": 288,
   "metadata": {},
   "outputs": [
    {
     "data": {
      "text/html": [
       "<div>\n",
       "<style scoped>\n",
       "    .dataframe tbody tr th:only-of-type {\n",
       "        vertical-align: middle;\n",
       "    }\n",
       "\n",
       "    .dataframe tbody tr th {\n",
       "        vertical-align: top;\n",
       "    }\n",
       "\n",
       "    .dataframe thead th {\n",
       "        text-align: right;\n",
       "    }\n",
       "</style>\n",
       "<table border=\"1\" class=\"dataframe\">\n",
       "  <thead>\n",
       "    <tr style=\"text-align: right;\">\n",
       "      <th></th>\n",
       "      <th>series</th>\n",
       "      <th>seriesID</th>\n",
       "      <th>survey</th>\n",
       "    </tr>\n",
       "  </thead>\n",
       "  <tbody>\n",
       "    <tr>\n",
       "      <th>199</th>\n",
       "      <td>Civilian Labor Force Level</td>\n",
       "      <td>LNS11000000</td>\n",
       "      <td>CPS</td>\n",
       "    </tr>\n",
       "    <tr>\n",
       "      <th>200</th>\n",
       "      <td>Civilian Labor Force Participation Rate</td>\n",
       "      <td>LNS11300000</td>\n",
       "      <td>CPS</td>\n",
       "    </tr>\n",
       "    <tr>\n",
       "      <th>201</th>\n",
       "      <td>Employment Level</td>\n",
       "      <td>LNS12000000</td>\n",
       "      <td>CPS</td>\n",
       "    </tr>\n",
       "    <tr>\n",
       "      <th>202</th>\n",
       "      <td>Employment - Population Ratio</td>\n",
       "      <td>LNS12300000</td>\n",
       "      <td>CPS</td>\n",
       "    </tr>\n",
       "    <tr>\n",
       "      <th>203</th>\n",
       "      <td>Employed, Usually Work Full Time</td>\n",
       "      <td>LNS12500000</td>\n",
       "      <td>CPS</td>\n",
       "    </tr>\n",
       "    <tr>\n",
       "      <th>204</th>\n",
       "      <td>Employed, Usually Work Part Time</td>\n",
       "      <td>LNS12600000</td>\n",
       "      <td>CPS</td>\n",
       "    </tr>\n",
       "  </tbody>\n",
       "</table>\n",
       "</div>"
      ],
      "text/plain": [
       "                                       series     seriesID survey\n",
       "199               Civilian Labor Force Level   LNS11000000    CPS\n",
       "200  Civilian Labor Force Participation Rate   LNS11300000    CPS\n",
       "201                         Employment Level   LNS12000000    CPS\n",
       "202            Employment - Population Ratio   LNS12300000    CPS\n",
       "203         Employed, Usually Work Full Time   LNS12500000    CPS\n",
       "204         Employed, Usually Work Part Time   LNS12600000    CPS"
      ]
     },
     "execution_count": 288,
     "metadata": {},
     "output_type": "execute_result"
    }
   ],
   "source": [
    "# Checking which seriesID's are duplicated. Must be a manual entry error.\n",
    "\n",
    "nsd[(nsd.seriesID.duplicated() == True)]"
   ]
  },
  {
   "cell_type": "code",
   "execution_count": 289,
   "metadata": {},
   "outputs": [],
   "source": [
    "# Drop duplicates for national_series_dimension \n",
    "\n",
    "nsd = nsd.drop_duplicates()"
   ]
  },
  {
   "cell_type": "code",
   "execution_count": 290,
   "metadata": {},
   "outputs": [
    {
     "data": {
      "text/plain": [
       "1"
      ]
     },
     "execution_count": 290,
     "metadata": {},
     "output_type": "execute_result"
    }
   ],
   "source": [
    "# Re-checking duplicates\n",
    "\n",
    "nsd.seriesID.duplicated().sum()"
   ]
  },
  {
   "cell_type": "code",
   "execution_count": 291,
   "metadata": {},
   "outputs": [
    {
     "data": {
      "text/html": [
       "<div>\n",
       "<style scoped>\n",
       "    .dataframe tbody tr th:only-of-type {\n",
       "        vertical-align: middle;\n",
       "    }\n",
       "\n",
       "    .dataframe tbody tr th {\n",
       "        vertical-align: top;\n",
       "    }\n",
       "\n",
       "    .dataframe thead th {\n",
       "        text-align: right;\n",
       "    }\n",
       "</style>\n",
       "<table border=\"1\" class=\"dataframe\">\n",
       "  <thead>\n",
       "    <tr style=\"text-align: right;\">\n",
       "      <th></th>\n",
       "      <th>series</th>\n",
       "      <th>seriesID</th>\n",
       "      <th>survey</th>\n",
       "    </tr>\n",
       "  </thead>\n",
       "  <tbody>\n",
       "    <tr>\n",
       "      <th>202</th>\n",
       "      <td>Employment - Population Ratio</td>\n",
       "      <td>LNS12300000</td>\n",
       "      <td>CPS</td>\n",
       "    </tr>\n",
       "  </tbody>\n",
       "</table>\n",
       "</div>"
      ],
      "text/plain": [
       "                             series     seriesID survey\n",
       "202  Employment - Population Ratio   LNS12300000    CPS"
      ]
     },
     "execution_count": 291,
     "metadata": {},
     "output_type": "execute_result"
    }
   ],
   "source": [
    "# Still a duplicate for just seriesID, which is pkey\n",
    "\n",
    "nsd[(nsd.seriesID.duplicated() == True)]"
   ]
  },
  {
   "cell_type": "code",
   "execution_count": 292,
   "metadata": {},
   "outputs": [],
   "source": [
    "# Drop that duplicate\n",
    "\n",
    "nsd.seriesID = nsd.seriesID.drop_duplicates(keep='first')"
   ]
  },
  {
   "cell_type": "code",
   "execution_count": 293,
   "metadata": {},
   "outputs": [
    {
     "data": {
      "text/plain": [
       "0"
      ]
     },
     "execution_count": 293,
     "metadata": {},
     "output_type": "execute_result"
    }
   ],
   "source": [
    "# Check SeriesID \n",
    "\n",
    "nsd.seriesID.duplicated().sum()"
   ]
  },
  {
   "cell_type": "code",
   "execution_count": 294,
   "metadata": {},
   "outputs": [
    {
     "data": {
      "text/html": [
       "<div>\n",
       "<style scoped>\n",
       "    .dataframe tbody tr th:only-of-type {\n",
       "        vertical-align: middle;\n",
       "    }\n",
       "\n",
       "    .dataframe tbody tr th {\n",
       "        vertical-align: top;\n",
       "    }\n",
       "\n",
       "    .dataframe thead th {\n",
       "        text-align: right;\n",
       "    }\n",
       "</style>\n",
       "<table border=\"1\" class=\"dataframe\">\n",
       "  <thead>\n",
       "    <tr style=\"text-align: right;\">\n",
       "      <th></th>\n",
       "      <th>series</th>\n",
       "      <th>seriesID</th>\n",
       "      <th>survey</th>\n",
       "    </tr>\n",
       "  </thead>\n",
       "  <tbody>\n",
       "    <tr>\n",
       "      <th>202</th>\n",
       "      <td>Employment - Population Ratio</td>\n",
       "      <td>NaN</td>\n",
       "      <td>CPS</td>\n",
       "    </tr>\n",
       "  </tbody>\n",
       "</table>\n",
       "</div>"
      ],
      "text/plain": [
       "                             series seriesID survey\n",
       "202  Employment - Population Ratio       NaN    CPS"
      ]
     },
     "execution_count": 294,
     "metadata": {},
     "output_type": "execute_result"
    }
   ],
   "source": [
    "# Check for nulls\n",
    "\n",
    "nsd[nsd.seriesID.isnull()]"
   ]
  },
  {
   "cell_type": "code",
   "execution_count": 295,
   "metadata": {},
   "outputs": [],
   "source": [
    "# Drop Nulls\n",
    "\n",
    "nsd.dropna(axis=0, inplace=True)"
   ]
  },
  {
   "cell_type": "code",
   "execution_count": 296,
   "metadata": {},
   "outputs": [
    {
     "data": {
      "text/html": [
       "<div>\n",
       "<style scoped>\n",
       "    .dataframe tbody tr th:only-of-type {\n",
       "        vertical-align: middle;\n",
       "    }\n",
       "\n",
       "    .dataframe tbody tr th {\n",
       "        vertical-align: top;\n",
       "    }\n",
       "\n",
       "    .dataframe thead th {\n",
       "        text-align: right;\n",
       "    }\n",
       "</style>\n",
       "<table border=\"1\" class=\"dataframe\">\n",
       "  <thead>\n",
       "    <tr style=\"text-align: right;\">\n",
       "      <th></th>\n",
       "      <th>series</th>\n",
       "      <th>seriesID</th>\n",
       "      <th>survey</th>\n",
       "    </tr>\n",
       "  </thead>\n",
       "  <tbody>\n",
       "  </tbody>\n",
       "</table>\n",
       "</div>"
      ],
      "text/plain": [
       "Empty DataFrame\n",
       "Columns: [series, seriesID, survey]\n",
       "Index: []"
      ]
     },
     "execution_count": 296,
     "metadata": {},
     "output_type": "execute_result"
    }
   ],
   "source": [
    "# Re-check\n",
    "\n",
    "nsd[nsd.seriesID.isnull()]"
   ]
  },
  {
   "cell_type": "code",
   "execution_count": 297,
   "metadata": {},
   "outputs": [
    {
     "data": {
      "text/plain": [
       "seriesID       object\n",
       "year            int64\n",
       "period         object\n",
       "period_name    object\n",
       "value          object\n",
       "footnotes      object\n",
       "dtype: object"
      ]
     },
     "execution_count": 297,
     "metadata": {},
     "output_type": "execute_result"
    }
   ],
   "source": [
    "# Check datatypes\n",
    "\n",
    "nr.dtypes"
   ]
  },
  {
   "cell_type": "code",
   "execution_count": 298,
   "metadata": {},
   "outputs": [
    {
     "data": {
      "text/plain": [
       "seriesID        object\n",
       "year             int64\n",
       "period          object\n",
       "period_name     object\n",
       "value          float64\n",
       "footnotes       object\n",
       "dtype: object"
      ]
     },
     "execution_count": 298,
     "metadata": {},
     "output_type": "execute_result"
    }
   ],
   "source": [
    "# Replacing '-' with None and converting to float\n",
    "\n",
    "nr['value'] = nr['value'].replace('-', None)\n",
    "nr['value'] = nr['value'].astype('float')\n",
    "\n",
    "nr.dtypes"
   ]
  },
  {
   "cell_type": "code",
   "execution_count": 299,
   "metadata": {},
   "outputs": [
    {
     "data": {
      "text/plain": [
       "seriesID        object\n",
       "year             int64\n",
       "period          object\n",
       "period_name     object\n",
       "value          float64\n",
       "footnotes       object\n",
       "dtype: object"
      ]
     },
     "execution_count": 299,
     "metadata": {},
     "output_type": "execute_result"
    }
   ],
   "source": [
    "# Replacing '-' with None and converting to float\n",
    "\n",
    "sr['value'] = sr['value'].replace('-', None)\n",
    "sr['value'] = sr['value'].astype('float')\n",
    "\n",
    "sr.dtypes"
   ]
  },
  {
   "cell_type": "code",
   "execution_count": 300,
   "metadata": {},
   "outputs": [
    {
     "data": {
      "text/plain": [
       "(Empty DataFrame\n",
       " Columns: [series, seriesID, survey]\n",
       " Index: [],\n",
       " Empty DataFrame\n",
       " Columns: [survey, series, seriesID, state]\n",
       " Index: [])"
      ]
     },
     "execution_count": 300,
     "metadata": {},
     "output_type": "execute_result"
    }
   ],
   "source": [
    "# Check for spaces at beginning of strings\n",
    "\n",
    "nsd[nsd.series == nsd.series.apply(lambda x: x.startswith(' '))],\\\n",
    "ssd[ssd.series == ssd.series.apply(lambda x: x.startswith(' '))]"
   ]
  },
  {
   "cell_type": "code",
   "execution_count": 301,
   "metadata": {},
   "outputs": [],
   "source": [
    "# Remove spaces \n",
    "\n",
    "def space_remover(df):\n",
    "\n",
    "        for col in df.columns:\n",
    "\n",
    "                df[col] = df[col].apply(lambda x: x.strip() if isinstance(x, str) else x)\n",
    "                \n",
    "        return df\n",
    "\n",
    "\n",
    "nr = space_remover(nr)\n",
    "nsd = space_remover(nsd)\n",
    "sr = space_remover(sr)\n",
    "ssd = space_remover(ssd)\n",
    "st = space_remover(st)\n",
    "                "
   ]
  },
  {
   "cell_type": "code",
   "execution_count": 302,
   "metadata": {},
   "outputs": [],
   "source": [
    "# Input new column is_adjusted (Boolean)\n",
    "\n",
    "pattern1 = re.compile(', seasonally adjusted')\n",
    "pattern2 = re.compile(', not seasonally adjusted')\n",
    "\n",
    "nsd['is_adjusted'] = \\\n",
    "    nsd['series'].str.lower().apply(lambda x: True if re.search(pattern1, x) and not re.search(pattern2, x) else False if re.search(pattern2, x) else None)\n",
    "\n",
    "ssd['is_adjusted'] = \\\n",
    "    ssd['series'].str.lower().apply(lambda x: True if re.search(pattern1, x) and not re.search(pattern2, x) else False if re.search(pattern2, x) else None)\n"
   ]
  },
  {
   "cell_type": "code",
   "execution_count": 303,
   "metadata": {},
   "outputs": [],
   "source": [
    "# Remove seasonally adjusted and not seasonally adjusted from series \n",
    "\n",
    "def adjusted_remover(series):\n",
    "    term1 = ', seasonally adjusted'\n",
    "    term2 = ', not seasonally adjusted'\n",
    "    \n",
    "    def remove_terms(text):\n",
    "        text_lower = text.lower()\n",
    "        index1 = text_lower.find(term1)\n",
    "        index2 = text_lower.find(term2)\n",
    "        if index1 != -1:\n",
    "            return text[:index1]\n",
    "        elif index2 != -1:\n",
    "            return text[:index2]\n",
    "        return text\n",
    "    \n",
    "    # Apply the removal function to the 'series' column\n",
    "    series['series'] = series['series'].apply(remove_terms)\n",
    "    return series\n",
    "\n",
    "# adjusted_remover(national_series_dimension)\n",
    "nsd = adjusted_remover(nsd)\n",
    "ssd = adjusted_remover(ssd)\n",
    "\n"
   ]
  },
  {
   "cell_type": "code",
   "execution_count": 304,
   "metadata": {},
   "outputs": [
    {
     "data": {
      "text/plain": [
       "(series         0\n",
       " seriesID       0\n",
       " survey         0\n",
       " is_adjusted    0\n",
       " dtype: object,\n",
       " survey         0\n",
       " series         0\n",
       " seriesID       0\n",
       " state          0\n",
       " is_adjusted    0\n",
       " dtype: object)"
      ]
     },
     "execution_count": 304,
     "metadata": {},
     "output_type": "execute_result"
    }
   ],
   "source": [
    "# Check for 'seasonally adjusted'\n",
    "\n",
    "nsd[(nsd['series'].str.lower().str.contains('seasonally adjusted') == True)].sum(),\\\n",
    "ssd[(ssd['series'].str.lower().str.contains('seasonally adjusted') == True)].sum()"
   ]
  },
  {
   "cell_type": "code",
   "execution_count": 305,
   "metadata": {},
   "outputs": [
    {
     "data": {
      "text/plain": [
       "is_adjusted\n",
       "True     41\n",
       "False    11\n",
       "Name: count, dtype: int64"
      ]
     },
     "execution_count": 305,
     "metadata": {},
     "output_type": "execute_result"
    }
   ],
   "source": [
    "# Check for Booleans in national_series_dimension\n",
    "\n",
    "nsd.is_adjusted.value_counts()"
   ]
  },
  {
   "cell_type": "code",
   "execution_count": 306,
   "metadata": {},
   "outputs": [
    {
     "data": {
      "text/plain": [
       "is_adjusted\n",
       "False    683\n",
       "True     666\n",
       "Name: count, dtype: int64"
      ]
     },
     "execution_count": 306,
     "metadata": {},
     "output_type": "execute_result"
    }
   ],
   "source": [
    "# Check for Booleans in state_series_dimension\n",
    "\n",
    "ssd.is_adjusted.value_counts()"
   ]
  },
  {
   "cell_type": "code",
   "execution_count": 307,
   "metadata": {},
   "outputs": [],
   "source": [
    "# Reorder columns\n",
    "\n",
    "ssd = ssd[['seriesID', 'series', 'state','survey','is_adjusted']]"
   ]
  },
  {
   "cell_type": "code",
   "execution_count": 308,
   "metadata": {},
   "outputs": [],
   "source": [
    "# Reorder columns\n",
    "\n",
    "nsd = nsd[['seriesID', 'series', 'survey', 'is_adjusted']]"
   ]
  },
  {
   "cell_type": "code",
   "execution_count": 309,
   "metadata": {},
   "outputs": [],
   "source": [
    "# Save to CSV in cleaned folder\n",
    "\n",
    "nsd.to_csv(f'{PATH}outputs/cleaning_op/national_series_dimension_cleaned_{NOW}.csv', index=False)\n",
    "ssd.to_csv(f'{PATH}outputs/cleaning_op/state_series_dimension_cleaned_{NOW}.csv', index=False)\n",
    "sr.to_csv(f'{PATH}outputs/cleaning_op/state_results_cleaned_{NOW}.csv', index=False)\n",
    "nr.to_csv(f'{PATH}outputs/cleaning_op/national_results_cleaned_{NOW}.csv', index=False)"
   ]
  }
 ],
 "metadata": {
  "kernelspec": {
   "display_name": "base",
   "language": "python",
   "name": "python3"
  },
  "language_info": {
   "codemirror_mode": {
    "name": "ipython",
    "version": 3
   },
   "file_extension": ".py",
   "mimetype": "text/x-python",
   "name": "python",
   "nbconvert_exporter": "python",
   "pygments_lexer": "ipython3",
   "version": "3.11.7"
  }
 },
 "nbformat": 4,
 "nbformat_minor": 2
}
