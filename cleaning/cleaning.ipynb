{
 "cells": [
  {
   "cell_type": "code",
   "execution_count": 40,
   "metadata": {},
   "outputs": [],
   "source": [
    "import pandas as pd\n",
    "import numpy as np\n",
    "import re\n",
    "\n",
    "PATH = '/Users/danielsagher/Dropbox/Documents/projects/bls_api_project'\n",
    "\n",
    "national_results = pd.read_csv('../api_call/main_output/national_results.csv')\n",
    "state_results = pd.read_csv('../api_call/main_output/state_results.csv')\n",
    "national_series_dimension = pd.read_csv('../csv_from_excel/national_series_dimension_w_adjust.csv')\n",
    "state_series_dimension = pd.read_csv('../state_scrape/output/state_series_dimension_01-Jun-2024_15:53:37.csv')\n",
    "survey_table = pd.read_csv('../csv_from_excel/survey_table.csv')\n",
    "\n"
   ]
  },
  {
   "cell_type": "code",
   "execution_count": 27,
   "metadata": {},
   "outputs": [
    {
     "data": {
      "text/plain": [
       "seriesID       object\n",
       "year            int64\n",
       "period         object\n",
       "period_name    object\n",
       "value          object\n",
       "footnotes      object\n",
       "dtype: object"
      ]
     },
     "execution_count": 27,
     "metadata": {},
     "output_type": "execute_result"
    }
   ],
   "source": [
    "national_results.dtypes"
   ]
  },
  {
   "cell_type": "code",
   "execution_count": 43,
   "metadata": {},
   "outputs": [
    {
     "data": {
      "text/plain": [
       "seriesID        object\n",
       "year             int64\n",
       "period          object\n",
       "period_name     object\n",
       "value          float64\n",
       "footnotes       object\n",
       "dtype: object"
      ]
     },
     "execution_count": 43,
     "metadata": {},
     "output_type": "execute_result"
    }
   ],
   "source": [
    "national_results['value'] = national_results['value'].replace('-', 0)\n",
    "national_results['value'] = national_results['value'].astype('float')\n",
    "\n",
    "national_results.dtypes"
   ]
  },
  {
   "cell_type": "code",
   "execution_count": 44,
   "metadata": {},
   "outputs": [
    {
     "data": {
      "text/plain": [
       "seriesID        object\n",
       "year             int64\n",
       "period          object\n",
       "period_name     object\n",
       "value          float64\n",
       "footnotes       object\n",
       "dtype: object"
      ]
     },
     "execution_count": 44,
     "metadata": {},
     "output_type": "execute_result"
    }
   ],
   "source": [
    "state_results['value'] = state_results['value'].replace('-', 0)\n",
    "state_results['value'] = state_results['value'].astype('float')\n",
    "\n",
    "state_results.dtypes"
   ]
  },
  {
   "cell_type": "code",
   "execution_count": 45,
   "metadata": {},
   "outputs": [],
   "source": [
    "\n",
    "def space_remover(df):\n",
    "\n",
    "        for col in df.columns:\n",
    "\n",
    "                df[col] = df[col].apply(lambda x: x.strip() if isinstance(x, str) else x)\n",
    "                \n",
    "        return df\n",
    "\n",
    "\n",
    "national_results = space_remover(national_results)\n",
    "national_series_dimension = space_remover(national_series_dimension)\n",
    "state_results = space_remover(state_results)\n",
    "state_series_dimension = space_remover(state_series_dimension)\n",
    "survey_table = space_remover(survey_table)\n",
    "                "
   ]
  },
  {
   "cell_type": "code",
   "execution_count": 46,
   "metadata": {},
   "outputs": [],
   "source": [
    "pattern1 = re.compile(', seasonally adjusted')\n",
    "pattern2 = re.compile(', not seasonally adjusted')\n",
    "\n",
    "national_series_dimension['is_adjusted'] = \\\n",
    "    national_series_dimension['series'].str.lower().apply(lambda x: True if re.search(pattern1, x) and not re.search(pattern2, x) else False if re.search(pattern2, x) else None)\n",
    "\n",
    "state_series_dimension['is_adjusted'] = \\\n",
    "    state_series_dimension['series'].str.lower().apply(lambda x: True if re.search(pattern1, x) and not re.search(pattern2, x) else False if re.search(pattern2, x) else None)\n"
   ]
  },
  {
   "cell_type": "code",
   "execution_count": 48,
   "metadata": {},
   "outputs": [],
   "source": [
    "# national_series_dimension.series = national_series_dimension['series'].str.lower().replace('seasonally adjusted', '').replace('not', '')\n",
    "# state_series_dimension['series'] = state_series_dimension['series'].str.replace('Seasonally adjusted', '').replace('Not', '')\n",
    "\n",
    "def adjusted_remover(series):\n",
    "    term1 = ', seasonally adjusted'\n",
    "    term2 = ', not seasonally adjusted'\n",
    "    \n",
    "    def remove_terms(text):\n",
    "        text_lower = text.lower()\n",
    "        index1 = text_lower.find(term1)\n",
    "        index2 = text_lower.find(term2)\n",
    "        if index1 != -1:\n",
    "            return text[:index1]\n",
    "        elif index2 != -1:\n",
    "            return text[:index2]\n",
    "        return text\n",
    "    \n",
    "    # Apply the removal function to the 'series' column\n",
    "    series['series'] = series['series'].apply(remove_terms)\n",
    "    return series\n",
    "\n",
    "# adjusted_remover(national_series_dimension)\n",
    "national_series_dimension = adjusted_remover(national_series_dimension)\n",
    "state_series_dimension = adjusted_remover(state_series_dimension)\n",
    "\n"
   ]
  },
  {
   "cell_type": "code",
   "execution_count": 51,
   "metadata": {},
   "outputs": [
    {
     "data": {
      "text/plain": [
       "(series         0\n",
       " seriesID       0\n",
       " survey         0\n",
       " is_adjusted    0\n",
       " dtype: object,\n",
       " series         0\n",
       " seriesID       0\n",
       " state          0\n",
       " survey         0\n",
       " is_adjusted    0\n",
       " dtype: object)"
      ]
     },
     "execution_count": 51,
     "metadata": {},
     "output_type": "execute_result"
    }
   ],
   "source": [
    "national_series_dimension[(national_series_dimension['series'].str.contains('seasonally adjusted') == True)].sum(),\\\n",
    "state_series_dimension[(state_series_dimension['series'].str.contains('seasonally adjusted') == True)].sum()"
   ]
  },
  {
   "cell_type": "code",
   "execution_count": 52,
   "metadata": {},
   "outputs": [
    {
     "data": {
      "text/plain": [
       "is_adjusted\n",
       "True     41\n",
       "False    11\n",
       "Name: count, dtype: int64"
      ]
     },
     "execution_count": 52,
     "metadata": {},
     "output_type": "execute_result"
    }
   ],
   "source": [
    "national_series_dimension.is_adjusted.value_counts()"
   ]
  },
  {
   "cell_type": "code",
   "execution_count": 54,
   "metadata": {},
   "outputs": [
    {
     "data": {
      "text/plain": [
       "is_adjusted\n",
       "False    683\n",
       "True     666\n",
       "Name: count, dtype: int64"
      ]
     },
     "execution_count": 54,
     "metadata": {},
     "output_type": "execute_result"
    }
   ],
   "source": [
    "state_series_dimension.is_adjusted.value_counts()"
   ]
  },
  {
   "cell_type": "code",
   "execution_count": 55,
   "metadata": {},
   "outputs": [],
   "source": [
    "national_series_dimension.to_csv('../cleaning/output/national_seriesID_list_cleaned.csv', index=False)\n",
    "state_series_dimension.to_csv('../cleaning/output/state_series_dimension.csv_cleaned.csv', index=False)"
   ]
  }
 ],
 "metadata": {
  "kernelspec": {
   "display_name": "base",
   "language": "python",
   "name": "python3"
  },
  "language_info": {
   "codemirror_mode": {
    "name": "ipython",
    "version": 3
   },
   "file_extension": ".py",
   "mimetype": "text/x-python",
   "name": "python",
   "nbconvert_exporter": "python",
   "pygments_lexer": "ipython3",
   "version": "3.11.7"
  }
 },
 "nbformat": 4,
 "nbformat_minor": 2
}
