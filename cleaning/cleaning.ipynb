{
 "cells": [
  {
   "cell_type": "code",
   "execution_count": 16,
   "metadata": {},
   "outputs": [],
   "source": [
    "import pandas as pd\n",
    "\n",
    "PATH = '/Users/danielsagher/Dropbox/Documents/projects/bls_api_project'\n",
    "\n",
    "national_results = pd.read_csv('../api_call/main_output/national_results.csv')\n",
    "state_results = pd.read_csv('../api_call/main_output/state_results.csv')\n",
    "national_series_dimension = pd.read_csv('../csv_from_excel/national_series_dimension.csv')\n",
    "state_series_dimension = pd.read_csv('../state_scrape/output/state_series_dimension.csv')\n",
    "survey_table = pd.read_csv('../csv_from_excel/survey_table.csv')\n",
    "\n"
   ]
  },
  {
   "cell_type": "code",
   "execution_count": 17,
   "metadata": {},
   "outputs": [
    {
     "data": {
      "text/plain": [
       "array([], dtype=object)"
      ]
     },
     "execution_count": 17,
     "metadata": {},
     "output_type": "execute_result"
    }
   ],
   "source": [
    "pd.merge(national_results[(national_results.duplicated() == True)], national_series_dimension, how='left')\\\n",
    "        .series.unique()"
   ]
  },
  {
   "cell_type": "code",
   "execution_count": 18,
   "metadata": {},
   "outputs": [
    {
     "data": {
      "text/plain": [
       "0"
      ]
     },
     "execution_count": 18,
     "metadata": {},
     "output_type": "execute_result"
    }
   ],
   "source": [
    "national_results = national_results.drop_duplicates()\n",
    "national_results.duplicated().sum()"
   ]
  },
  {
   "cell_type": "code",
   "execution_count": 19,
   "metadata": {},
   "outputs": [
    {
     "data": {
      "text/plain": [
       "seriesID       object\n",
       "year            int64\n",
       "period         object\n",
       "period_name    object\n",
       "value          object\n",
       "footnotes      object\n",
       "dtype: object"
      ]
     },
     "execution_count": 19,
     "metadata": {},
     "output_type": "execute_result"
    }
   ],
   "source": [
    "national_results.dtypes"
   ]
  },
  {
   "cell_type": "code",
   "execution_count": 20,
   "metadata": {},
   "outputs": [
    {
     "data": {
      "text/plain": [
       "seriesID        object\n",
       "year             int64\n",
       "period          object\n",
       "period_name     object\n",
       "value          float64\n",
       "footnotes       object\n",
       "dtype: object"
      ]
     },
     "execution_count": 20,
     "metadata": {},
     "output_type": "execute_result"
    }
   ],
   "source": [
    "national_results['value'] = national_results['value'].replace('-', 0)\n",
    "national_results['value'] = national_results['value'].astype('float')\n",
    "\n",
    "national_results.dtypes"
   ]
  },
  {
   "cell_type": "code",
   "execution_count": 21,
   "metadata": {},
   "outputs": [],
   "source": [
    "\n",
    "def space_remover(df):\n",
    "\n",
    "        for col in df.columns:\n",
    "\n",
    "                df[col] = df[col].apply(lambda x: x.strip() if isinstance(x, str) else x)\n",
    "                \n",
    "        return df\n",
    "\n",
    "\n",
    "national_results = space_remover(national_results)\n",
    "national_series_dimension = space_remover(national_series_dimension)\n",
    "state_results = space_remover(state_results)\n",
    "state_series_dimension = space_remover(state_series_dimension)\n",
    "survey_table = space_remover(survey_table)\n",
    "                "
   ]
  },
  {
   "cell_type": "code",
   "execution_count": 22,
   "metadata": {},
   "outputs": [],
   "source": [
    "national_results.footnotes = [i.replace('[{}]', 'NaN') for i in national_results.footnotes]\n",
    "state_results.footnotes = [i.replace('[{}]', 'NaN') for i in state_results.footnotes]\n"
   ]
  },
  {
   "cell_type": "code",
   "execution_count": 23,
   "metadata": {},
   "outputs": [],
   "source": [
    "national_series_dimension['is_adjusted'] = \\\n",
    "    national_series_dimension['series'].str.lower().apply(lambda x: False if 'not seasonally adjusted' in x else True)\n",
    "\n",
    "state_series_dimension['is_adjusted'] = \\\n",
    "   state_series_dimension['series'].str.lower().apply(lambda x: False if 'not seasonally adjusted' in x else True)\n"
   ]
  },
  {
   "cell_type": "code",
   "execution_count": 24,
   "metadata": {},
   "outputs": [
    {
     "data": {
      "text/plain": [
       "Series([], Name: series, dtype: object)"
      ]
     },
     "execution_count": 24,
     "metadata": {},
     "output_type": "execute_result"
    }
   ],
   "source": [
    "state_series_dimension.series[(state_series_dimension.is_adjusted == False)] \n",
    "national_series_dimension.series[(national_series_dimension.is_adjusted == False)]"
   ]
  },
  {
   "cell_type": "code",
   "execution_count": 25,
   "metadata": {},
   "outputs": [],
   "source": [
    "# national_series_dimension.series = national_series_dimension['series'].str.lower().replace('seasonally adjusted', '').replace('not', '')\n",
    "# state_series_dimension['series'] = state_series_dimension['series'].str.replace('Seasonally adjusted', '').replace('Not', '')\n",
    "\n",
    "def adjusted_remover(series):\n",
    "    term1 = ', seasonally adjusted'\n",
    "    term2 = ', not seasonally adjusted'\n",
    "    \n",
    "    def remove_terms(text):\n",
    "        text_lower = text.lower()\n",
    "        index1 = text_lower.find(term1)\n",
    "        index2 = text_lower.find(term2)\n",
    "        if index1 != -1:\n",
    "            return text[:index1]\n",
    "        elif index2 != -1:\n",
    "            return text[:index2]\n",
    "        return text\n",
    "    \n",
    "    # Apply the removal function to the 'series' column\n",
    "    series['series'] = series['series'].apply(remove_terms)\n",
    "    return series\n",
    "\n",
    "# adjusted_remover(national_series_dimension)\n",
    "national_series_dimension = adjusted_remover(national_series_dimension)\n",
    "state_series_dimension = adjusted_remover(state_series_dimension)\n",
    "\n"
   ]
  },
  {
   "cell_type": "code",
   "execution_count": 26,
   "metadata": {},
   "outputs": [
    {
     "data": {
      "text/plain": [
       "(series         0\n",
       " seriesID       0\n",
       " survey         0\n",
       " is_adjusted    0\n",
       " dtype: object,\n",
       " series         0\n",
       " seriesID       0\n",
       " state          0\n",
       " is_adjusted    0\n",
       " survey         0\n",
       " dtype: object)"
      ]
     },
     "execution_count": 26,
     "metadata": {},
     "output_type": "execute_result"
    }
   ],
   "source": [
    "national_series_dimension[(national_series_dimension['series'].str.contains('seasonally adjusted') == True)].sum(),\\\n",
    "state_series_dimension[(state_series_dimension['series'].str.contains('seasonally adjusted') == True)].sum()"
   ]
  },
  {
   "cell_type": "code",
   "execution_count": 27,
   "metadata": {},
   "outputs": [],
   "source": [
    "national_series_dimension.to_csv('../cleaning/output/national_seriesID_list_cleaned.csv', index=False)\n",
    "state_series_dimension.to_csv('../cleaning/output/state_series_dimension.csv_cleaned.csv', index=False)"
   ]
  }
 ],
 "metadata": {
  "kernelspec": {
   "display_name": "base",
   "language": "python",
   "name": "python3"
  },
  "language_info": {
   "codemirror_mode": {
    "name": "ipython",
    "version": 3
   },
   "file_extension": ".py",
   "mimetype": "text/x-python",
   "name": "python",
   "nbconvert_exporter": "python",
   "pygments_lexer": "ipython3",
   "version": "3.11.7"
  }
 },
 "nbformat": 4,
 "nbformat_minor": 2
}
